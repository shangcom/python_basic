{
 "cells": [
  {
   "cell_type": "code",
   "execution_count": 1,
   "id": "92fbd29b",
   "metadata": {},
   "outputs": [
    {
     "data": {
      "text/plain": [
       "<Response [200]>"
      ]
     },
     "execution_count": 1,
     "metadata": {},
     "output_type": "execute_result"
    }
   ],
   "source": [
    "import requests\n",
    "\n",
    "image_url='https://www.python.org/static/img/python-logo.png'#이미지 링크(주소)\n",
    "r_status_code = requests.get(image_url) # 이미지 주소의 HTTP 응답 객체\n",
    "r_status_code"
   ]
  },
  {
   "cell_type": "code",
   "execution_count": 3,
   "id": "1cea9d65",
   "metadata": {},
   "outputs": [
    {
     "data": {
      "text/plain": [
       "['https:', '', 'www.python.org', 'static', 'img', 'python-logo.png']"
      ]
     },
     "execution_count": 3,
     "metadata": {},
     "output_type": "execute_result"
    }
   ],
   "source": [
    "image_url.split(\"/\")"
   ]
  },
  {
   "cell_type": "code",
   "execution_count": 4,
   "id": "9d21f282",
   "metadata": {},
   "outputs": [],
   "source": [
    "li=image_url.split(\"/\")"
   ]
  },
  {
   "cell_type": "code",
   "execution_count": 5,
   "id": "3384968d",
   "metadata": {},
   "outputs": [],
   "source": [
    "li=[-1]"
   ]
  },
  {
   "cell_type": "code",
   "execution_count": 6,
   "id": "63abeb7e",
   "metadata": {},
   "outputs": [],
   "source": [
    "from pathlib import Path"
   ]
  },
  {
   "cell_type": "code",
   "execution_count": 7,
   "id": "4c7c8c0a",
   "metadata": {},
   "outputs": [
    {
     "name": "stdout",
     "output_type": "stream",
     "text": [
      "Help on class Path in module pathlib:\n",
      "\n",
      "class Path(PurePath)\n",
      " |  Path(*args, **kwargs)\n",
      " |  \n",
      " |  PurePath subclass that can make system calls.\n",
      " |  \n",
      " |  Path represents a filesystem path but unlike PurePath, also offers\n",
      " |  methods to do system calls on path objects. Depending on your system,\n",
      " |  instantiating a Path will return either a PosixPath or a WindowsPath\n",
      " |  object. You can also instantiate a PosixPath or WindowsPath directly,\n",
      " |  but cannot instantiate a WindowsPath on a POSIX system or vice versa.\n",
      " |  \n",
      " |  Method resolution order:\n",
      " |      Path\n",
      " |      PurePath\n",
      " |      builtins.object\n",
      " |  \n",
      " |  Methods defined here:\n",
      " |  \n",
      " |  __enter__(self)\n",
      " |  \n",
      " |  __exit__(self, t, v, tb)\n",
      " |  \n",
      " |  absolute(self)\n",
      " |      Return an absolute version of this path by prepending the current\n",
      " |      working directory. No normalization or symlink resolution is performed.\n",
      " |      \n",
      " |      Use resolve() to get the canonical path to a file.\n",
      " |  \n",
      " |  chmod(self, mode, *, follow_symlinks=True)\n",
      " |      Change the permissions of the path, like os.chmod().\n",
      " |  \n",
      " |  exists(self)\n",
      " |      Whether this path exists.\n",
      " |  \n",
      " |  expanduser(self)\n",
      " |      Return a new path with expanded ~ and ~user constructs\n",
      " |      (as returned by os.path.expanduser)\n",
      " |  \n",
      " |  glob(self, pattern)\n",
      " |      Iterate over this subtree and yield all existing files (of any\n",
      " |      kind, including directories) matching the given relative pattern.\n",
      " |  \n",
      " |  group(self)\n",
      " |      Return the group name of the file gid.\n",
      " |  \n",
      " |  hardlink_to(self, target)\n",
      " |      Make this path a hard link pointing to the same file as *target*.\n",
      " |      \n",
      " |      Note the order of arguments (self, target) is the reverse of os.link's.\n",
      " |  \n",
      " |  is_block_device(self)\n",
      " |      Whether this path is a block device.\n",
      " |  \n",
      " |  is_char_device(self)\n",
      " |      Whether this path is a character device.\n",
      " |  \n",
      " |  is_dir(self)\n",
      " |      Whether this path is a directory.\n",
      " |  \n",
      " |  is_fifo(self)\n",
      " |      Whether this path is a FIFO.\n",
      " |  \n",
      " |  is_file(self)\n",
      " |      Whether this path is a regular file (also True for symlinks pointing\n",
      " |      to regular files).\n",
      " |  \n",
      " |  is_mount(self)\n",
      " |      Check if this path is a POSIX mount point\n",
      " |  \n",
      " |  is_socket(self)\n",
      " |      Whether this path is a socket.\n",
      " |  \n",
      " |  is_symlink(self)\n",
      " |      Whether this path is a symbolic link.\n",
      " |  \n",
      " |  iterdir(self)\n",
      " |      Iterate over the files in this directory.  Does not yield any\n",
      " |      result for the special paths '.' and '..'.\n",
      " |  \n",
      " |  lchmod(self, mode)\n",
      " |      Like chmod(), except if the path points to a symlink, the symlink's\n",
      " |      permissions are changed, rather than its target's.\n",
      " |  \n",
      " |  link_to(self, target)\n",
      " |      Make the target path a hard link pointing to this path.\n",
      " |      \n",
      " |      Note this function does not make this path a hard link to *target*,\n",
      " |      despite the implication of the function and argument names. The order\n",
      " |      of arguments (target, link) is the reverse of Path.symlink_to, but\n",
      " |      matches that of os.link.\n",
      " |      \n",
      " |      Deprecated since Python 3.10 and scheduled for removal in Python 3.12.\n",
      " |      Use `hardlink_to()` instead.\n",
      " |  \n",
      " |  lstat(self)\n",
      " |      Like stat(), except if the path points to a symlink, the symlink's\n",
      " |      status information is returned, rather than its target's.\n",
      " |  \n",
      " |  mkdir(self, mode=511, parents=False, exist_ok=False)\n",
      " |      Create a new directory at this given path.\n",
      " |  \n",
      " |  open(self, mode='r', buffering=-1, encoding=None, errors=None, newline=None)\n",
      " |      Open the file pointed by this path and return a file object, as\n",
      " |      the built-in open() function does.\n",
      " |  \n",
      " |  owner(self)\n",
      " |      Return the login name of the file owner.\n",
      " |  \n",
      " |  read_bytes(self)\n",
      " |      Open the file in bytes mode, read it, and close the file.\n",
      " |  \n",
      " |  read_text(self, encoding=None, errors=None)\n",
      " |      Open the file in text mode, read it, and close the file.\n",
      " |  \n",
      " |  readlink(self)\n",
      " |      Return the path to which the symbolic link points.\n",
      " |  \n",
      " |  rename(self, target)\n",
      " |      Rename this path to the target path.\n",
      " |      \n",
      " |      The target path may be absolute or relative. Relative paths are\n",
      " |      interpreted relative to the current working directory, *not* the\n",
      " |      directory of the Path object.\n",
      " |      \n",
      " |      Returns the new Path instance pointing to the target path.\n",
      " |  \n",
      " |  replace(self, target)\n",
      " |      Rename this path to the target path, overwriting if that path exists.\n",
      " |      \n",
      " |      The target path may be absolute or relative. Relative paths are\n",
      " |      interpreted relative to the current working directory, *not* the\n",
      " |      directory of the Path object.\n",
      " |      \n",
      " |      Returns the new Path instance pointing to the target path.\n",
      " |  \n",
      " |  resolve(self, strict=False)\n",
      " |      Make the path absolute, resolving all symlinks on the way and also\n",
      " |      normalizing it.\n",
      " |  \n",
      " |  rglob(self, pattern)\n",
      " |      Recursively yield all existing files (of any kind, including\n",
      " |      directories) matching the given relative pattern, anywhere in\n",
      " |      this subtree.\n",
      " |  \n",
      " |  rmdir(self)\n",
      " |      Remove this directory.  The directory must be empty.\n",
      " |  \n",
      " |  samefile(self, other_path)\n",
      " |      Return whether other_path is the same or not as this file\n",
      " |      (as returned by os.path.samefile()).\n",
      " |  \n",
      " |  stat(self, *, follow_symlinks=True)\n",
      " |      Return the result of the stat() system call on this path, like\n",
      " |      os.stat() does.\n",
      " |  \n",
      " |  symlink_to(self, target, target_is_directory=False)\n",
      " |      Make this path a symlink pointing to the target path.\n",
      " |      Note the order of arguments (link, target) is the reverse of os.symlink.\n",
      " |  \n",
      " |  touch(self, mode=438, exist_ok=True)\n",
      " |      Create this file with the given access mode, if it doesn't exist.\n",
      " |  \n",
      " |  unlink(self, missing_ok=False)\n",
      " |      Remove this file or link.\n",
      " |      If the path is a directory, use rmdir() instead.\n",
      " |  \n",
      " |  write_bytes(self, data)\n",
      " |      Open the file in bytes mode, write to it, and close the file.\n",
      " |  \n",
      " |  write_text(self, data, encoding=None, errors=None, newline=None)\n",
      " |      Open the file in text mode, write to it, and close the file.\n",
      " |  \n",
      " |  ----------------------------------------------------------------------\n",
      " |  Class methods defined here:\n",
      " |  \n",
      " |  cwd() from builtins.type\n",
      " |      Return a new path pointing to the current working directory\n",
      " |      (as returned by os.getcwd()).\n",
      " |  \n",
      " |  home() from builtins.type\n",
      " |      Return a new path pointing to the user's home directory (as\n",
      " |      returned by os.path.expanduser('~')).\n",
      " |  \n",
      " |  ----------------------------------------------------------------------\n",
      " |  Static methods defined here:\n",
      " |  \n",
      " |  __new__(cls, *args, **kwargs)\n",
      " |      Construct a PurePath from one or several strings and or existing\n",
      " |      PurePath objects.  The strings and path objects are combined so as\n",
      " |      to yield a canonicalized path, which is incorporated into the\n",
      " |      new PurePath object.\n",
      " |  \n",
      " |  ----------------------------------------------------------------------\n",
      " |  Methods inherited from PurePath:\n",
      " |  \n",
      " |  __bytes__(self)\n",
      " |      Return the bytes representation of the path.  This is only\n",
      " |      recommended to use under Unix.\n",
      " |  \n",
      " |  __eq__(self, other)\n",
      " |      Return self==value.\n",
      " |  \n",
      " |  __fspath__(self)\n",
      " |  \n",
      " |  __ge__(self, other)\n",
      " |      Return self>=value.\n",
      " |  \n",
      " |  __gt__(self, other)\n",
      " |      Return self>value.\n",
      " |  \n",
      " |  __hash__(self)\n",
      " |      Return hash(self).\n",
      " |  \n",
      " |  __le__(self, other)\n",
      " |      Return self<=value.\n",
      " |  \n",
      " |  __lt__(self, other)\n",
      " |      Return self<value.\n",
      " |  \n",
      " |  __reduce__(self)\n",
      " |      Helper for pickle.\n",
      " |  \n",
      " |  __repr__(self)\n",
      " |      Return repr(self).\n",
      " |  \n",
      " |  __rtruediv__(self, key)\n",
      " |  \n",
      " |  __str__(self)\n",
      " |      Return the string representation of the path, suitable for\n",
      " |      passing to system calls.\n",
      " |  \n",
      " |  __truediv__(self, key)\n",
      " |  \n",
      " |  as_posix(self)\n",
      " |      Return the string representation of the path with forward (/)\n",
      " |      slashes.\n",
      " |  \n",
      " |  as_uri(self)\n",
      " |      Return the path as a 'file' URI.\n",
      " |  \n",
      " |  is_absolute(self)\n",
      " |      True if the path is absolute (has both a root and, if applicable,\n",
      " |      a drive).\n",
      " |  \n",
      " |  is_relative_to(self, *other)\n",
      " |      Return True if the path is relative to another path or False.\n",
      " |  \n",
      " |  is_reserved(self)\n",
      " |      Return True if the path contains one of the special names reserved\n",
      " |      by the system, if any.\n",
      " |  \n",
      " |  joinpath(self, *args)\n",
      " |      Combine this path with one or several arguments, and return a\n",
      " |      new path representing either a subpath (if all arguments are relative\n",
      " |      paths) or a totally different path (if one of the arguments is\n",
      " |      anchored).\n",
      " |  \n",
      " |  match(self, path_pattern)\n",
      " |      Return True if this path matches the given pattern.\n",
      " |  \n",
      " |  relative_to(self, *other)\n",
      " |      Return the relative path to another path identified by the passed\n",
      " |      arguments.  If the operation is not possible (because this is not\n",
      " |      a subpath of the other path), raise ValueError.\n",
      " |  \n",
      " |  with_name(self, name)\n",
      " |      Return a new path with the file name changed.\n",
      " |  \n",
      " |  with_stem(self, stem)\n",
      " |      Return a new path with the stem changed.\n",
      " |  \n",
      " |  with_suffix(self, suffix)\n",
      " |      Return a new path with the file suffix changed.  If the path\n",
      " |      has no suffix, add given suffix.  If the given suffix is an empty\n",
      " |      string, remove the suffix from the path.\n",
      " |  \n",
      " |  ----------------------------------------------------------------------\n",
      " |  Readonly properties inherited from PurePath:\n",
      " |  \n",
      " |  anchor\n",
      " |      The concatenation of the drive and root, or ''.\n",
      " |  \n",
      " |  drive\n",
      " |      The drive prefix (letter or UNC path), if any.\n",
      " |  \n",
      " |  name\n",
      " |      The final path component, if any.\n",
      " |  \n",
      " |  parent\n",
      " |      The logical parent of the path.\n",
      " |  \n",
      " |  parents\n",
      " |      A sequence of this path's logical parents.\n",
      " |  \n",
      " |  parts\n",
      " |      An object providing sequence-like access to the\n",
      " |      components in the filesystem path.\n",
      " |  \n",
      " |  root\n",
      " |      The root of the path, if any.\n",
      " |  \n",
      " |  stem\n",
      " |      The final path component, minus its last suffix.\n",
      " |  \n",
      " |  suffix\n",
      " |      The final component's last suffix, if any.\n",
      " |      \n",
      " |      This includes the leading period. For example: '.txt'\n",
      " |  \n",
      " |  suffixes\n",
      " |      A list of the final component's suffixes, if any.\n",
      " |      \n",
      " |      These include the leading periods. For example: ['.tar', '.gz']\n",
      "\n"
     ]
    }
   ],
   "source": [
    "help(Path)"
   ]
  },
  {
   "cell_type": "code",
   "execution_count": 8,
   "id": "1a739be5",
   "metadata": {},
   "outputs": [],
   "source": [
    "down_folder='C:/ex/py/data'"
   ]
  },
  {
   "cell_type": "code",
   "execution_count": 9,
   "id": "4afa80db",
   "metadata": {},
   "outputs": [],
   "source": [
    "image_dir_path=Path(down_folder)"
   ]
  },
  {
   "cell_type": "code",
   "execution_count": 10,
   "id": "f2a55cac",
   "metadata": {},
   "outputs": [
    {
     "data": {
      "text/plain": [
       "WindowsPath('C:/ex/py/data')"
      ]
     },
     "execution_count": 10,
     "metadata": {},
     "output_type": "execute_result"
    }
   ],
   "source": [
    "image_dir_path"
   ]
  },
  {
   "cell_type": "code",
   "execution_count": 11,
   "id": "dfa573e6",
   "metadata": {},
   "outputs": [
    {
     "data": {
      "text/plain": [
       "True"
      ]
     },
     "execution_count": 11,
     "metadata": {},
     "output_type": "execute_result"
    }
   ],
   "source": [
    "image_dir_path.exists()"
   ]
  },
  {
   "cell_type": "code",
   "execution_count": 12,
   "id": "05e0f8f5",
   "metadata": {},
   "outputs": [],
   "source": [
    "if not image_dir_path.exists():\n",
    "    image_dir_path.mkdir(parents=True, exist_ok=True)"
   ]
  },
  {
   "cell_type": "code",
   "execution_count": 14,
   "id": "71e78f7a",
   "metadata": {},
   "outputs": [
    {
     "ename": "NameError",
     "evalue": "name 'file_name' is not defined",
     "output_type": "error",
     "traceback": [
      "\u001b[1;31m---------------------------------------------------------------------------\u001b[0m",
      "\u001b[1;31mNameError\u001b[0m                                 Traceback (most recent call last)",
      "Cell \u001b[1;32mIn[14], line 1\u001b[0m\n\u001b[1;32m----> 1\u001b[0m image_path\u001b[38;5;241m=\u001b[39mimage_dir_path\u001b[38;5;241m/\u001b[39mfile_name\n",
      "\u001b[1;31mNameError\u001b[0m: name 'file_name' is not defined"
     ]
    }
   ],
   "source": [
    "image_path=image_dir_path/file_name"
   ]
  },
  {
   "cell_type": "raw",
   "id": "db139670",
   "metadata": {},
   "source": [
    "r_status_code.contet"
   ]
  },
  {
   "cell_type": "code",
   "execution_count": 15,
   "id": "c3369eb2",
   "metadata": {},
   "outputs": [],
   "source": [
    "import requests\n",
    "\n",
    "# 이미지 URL\n",
    "image_url = \"https://t1.daumcdn.net/daumtop_deco/images/pctop/2023/logo_daum.png\"\n",
    "\n",
    "# 이미지를 저장할 로컬 경로\n",
    "save_path = \"C:/ex/py/data/logo_daum.png\"\n",
    "\n",
    "# 이미지 다운로드\n",
    "response = requests.get(image_url)\n",
    "response.raise_for_status()  # 요청에 실패한 경우 예외를 발생시킵니다.\n",
    "\n",
    "# 이미지 저장\n",
    "with open(save_path, 'wb') as f:\n",
    "    f.write(response.content)"
   ]
  },
  {
   "cell_type": "code",
   "execution_count": 16,
   "id": "e73f2057",
   "metadata": {},
   "outputs": [],
   "source": [
    "import requests\n",
    "import os\n",
    "\n",
    "# 이미지 URL\n",
    "image_url = \"https://t1.daumcdn.net/daumtop_deco/images/pctop/2023/logo_daum.png\"\n",
    "\n",
    "# URL에서 파일 이름 추출\n",
    "file_name = os.path.basename(image_url)\n",
    "\n",
    "# 이미지를 저장할 로컬 경로\n",
    "save_path = os.path.join(\"C:/ex/py/data\", file_name)\n",
    "\n",
    "# 이미지 다운로드\n",
    "response = requests.get(image_url)\n",
    "response.raise_for_status()  # 요청에 실패한 경우 예외를 발생시킵니다.\n",
    "\n",
    "# 이미지 저장\n",
    "with open(save_path, 'wb') as f:\n",
    "    f.write(response.content)\n"
   ]
  },
  {
   "cell_type": "code",
   "execution_count": 17,
   "id": "55371397",
   "metadata": {},
   "outputs": [
    {
     "ename": "SyntaxError",
     "evalue": "invalid non-printable character U+200B (2691903647.py, line 17)",
     "output_type": "error",
     "traceback": [
      "\u001b[1;36m  Cell \u001b[1;32mIn[17], line 17\u001b[1;36m\u001b[0m\n\u001b[1;33m    ​\u001b[0m\n\u001b[1;37m    ^\u001b[0m\n\u001b[1;31mSyntaxError\u001b[0m\u001b[1;31m:\u001b[0m invalid non-printable character U+200B\n"
     ]
    }
   ],
   "source": [
    "import requests\n",
    "\n",
    "# 이미지 URL\n",
    "image_url = \"https://t1.daumcdn.net/daumtop_deco/images/pctop/2023/logo_daum.png\"\n",
    "\n",
    "# 이미지를 저장할 로컬 경로\n",
    "save_path = \"C:/ex/py/data/logo_daum.png\"\n",
    "\n",
    "# 이미지 다운로드\n",
    "response = requests.get(image_url)\n",
    "response.raise_for_status()  # 요청에 실패한 경우 예외를 발생시킵니다.\n",
    "\n",
    "# 이미지 저장\n",
    "with open(save_path, 'wb') as f:\n",
    "    f.write(response.content)\n",
    "import requests\n",
    "​\n",
    "# 이미지 URL\n",
    "image_url = \"https://t1.daumcdn.net/daumtop_deco/images/pctop/2023/logo_daum.png\"\n",
    "​\n",
    "# 이미지를 저장할 로컬 경로\n",
    "save_path = \"C:/ex/py/data/logo_daum.png\"\n",
    "​\n",
    "# 이미지 다운로드\n",
    "response = requests.get(image_url)\n",
    "response.raise_for_status()  # 요청에 실패한 경우 예외를 발생시킵니다.\n",
    "​\n",
    "# 이미지 저장\n",
    "with open(save_path, 'wb') as f:\n",
    "    f.write(response.content)\n",
    "import requests\n",
    "import os\n",
    "​\n",
    "# 이미지 URL\n",
    "image_url = \"https://t1.daumcdn.net/daumtop_deco/images/pctop/2023/logo_daum.png\"\n",
    "​\n",
    "# URL에서 파일 이름 추출\n",
    "file_name = os.path.basename(image_url)\n",
    "​\n",
    "# 이미지를 저장할 로컬 경로\n",
    "save_path = os.path.join(\"C:/ex/py/data\", file_name)\n",
    "​\n",
    "# 이미지 다운로드\n",
    "response = requests.get(image_url)\n",
    "response.raise_for_status()  # 요청에 실패한 경우 예외를 발생시킵니다.\n",
    "​\n",
    "# 이미지 저장\n",
    "with open(save_path, 'wb') as f:\n",
    "    f.write(response.content)\n",
    "​\n",
    "​"
   ]
  },
  {
   "cell_type": "code",
   "execution_count": 18,
   "id": "dc8c8818",
   "metadata": {},
   "outputs": [],
   "source": [
    "# pixabay 여러 이미지\n",
    "# container--wYO8e 이미지 소스 경로가 있는 영역 클래스"
   ]
  },
  {
   "cell_type": "code",
   "execution_count": 19,
   "id": "a887bac4",
   "metadata": {},
   "outputs": [],
   "source": [
    "s_code=requests.get('https://pixabay.com/ko/photos/search/cat/')"
   ]
  },
  {
   "cell_type": "code",
   "execution_count": 20,
   "id": "a0b7769f",
   "metadata": {},
   "outputs": [
    {
     "data": {
      "text/plain": [
       "'<!DOCTYPE html><html lang=\"en-US\"><head><title>Just a moment...</title><meta http-equiv=\"Content-Type\" content=\"text/html; charset=UTF-8\"><meta http-equiv=\"X-UA-Compatible\" content=\"IE=Edge\"><meta name=\"robots\" content=\"noindex,nofollow\"><meta name=\"viewport\" content=\"width=device-width,initial-scale=1\"><style>*{box-sizing:border-box;margin:0;padding:0}html{line-height:1.15;-webkit-text-size-adjust:100%;color:#313131}button,html{font-family:system-ui,-apple-system,BlinkMacSystemFont,Segoe UI,Roboto,Helvetica Neue,Arial,Noto Sans,sans-serif,Apple Color Emoji,Segoe UI Emoji,Segoe UI Symbol,Noto Color Emoji}@media (prefers-color-scheme:dark){body{background-color:#222;color:#d9d9d9}body a{color:#fff}body a:hover{color:#ee730a;text-decoration:underline}body .lds-ring div{border-color:#999 transparent transparent}body .font-red{color:#b20f03}body .big-button,body .pow-button{background-color:#4693ff;color:#1d1d1d}body #challenge-success-text{background-image:url(data:image/svg+xml;base64,PHN2ZyB4bWxucz0iaHR0cDovL3d3dy53My5vcmcvMjAwMC9zdmciIHdpZHRoPSIzMiIgaGVpZ2h0PSIzMiIgZmlsbD0ibm9uZSIgdmlld0JveD0iMCAwIDI2IDI2Ij48cGF0aCBmaWxsPSIjZDlkOWQ5IiBkPSJNMTMgMGExMyAxMyAwIDEgMCAwIDI2IDEzIDEzIDAgMCAwIDAtMjZtMCAyNGExMSAxMSAwIDEgMSAwLTIyIDExIDExIDAgMCAxIDAgMjIiLz48cGF0aCBmaWxsPSIjZDlkOWQ5IiBkPSJtMTAuOTU1IDE2LjA1NS0zLjk1LTQuMTI1LTEuNDQ1IDEuMzg1IDUuMzcgNS42MSA5LjQ5NS05LjYtMS40Mi0xLjQwNXoiLz48L3N2Zz4=)}body #challenge-error-text{background-image:url(data:image/svg+xml;base64,PHN2ZyB4bWxucz0iaHR0cDovL3d3dy53My5vcmcvMjAwMC9zdmciIHdpZHRoPSIzMiIgaGVpZ2h0PSIzMiIgZmlsbD0ibm9uZSI+PHBhdGggZmlsbD0iI0IyMEYwMyIgZD0iTTE2IDNhMTMgMTMgMCAxIDAgMTMgMTNBMTMuMDE1IDEzLjAxNSAwIDAgMCAxNiAzbTAgMjRhMTEgMTEgMCAxIDEgMTEtMTEgMTEuMDEgMTEuMDEgMCAwIDEtMTEgMTEiLz48cGF0aCBmaWxsPSIjQjIwRjAzIiBkPSJNMTcuMDM4IDE4LjYxNUgxNC44N0wxNC41NjMgOS41aDIuNzgzem0tMS4wODQgMS40MjdxLjY2IDAgMS4wNTcuMzg4LjQwNy4zODkuNDA3Ljk5NCAwIC41OTYtLjQwNy45ODQtLjM5Ny4zOS0xLjA1Ny4zODktLjY1IDAtMS4wNTYtLjM4OS0uMzk4LS4zODktLjM5OC0uOTg0IDAtLjU5Ny4zOTgtLjk4NS40MDYtLjM5NyAxLjA1Ni0uMzk3Ii8+PC9zdmc+)}}body{display:flex;flex-direction:column;min-height:100vh}body.no-js .loading-spinner{visibility:hidden}body.no-js .challenge-running{display:none}body.dark{background-color:#222;color:#d9d9d9}body.dark a{color:#fff}body.dark a:hover{color:#ee730a;text-decoration:underline}body.dark .lds-ring div{border-color:#999 transparent transparent}body.dark .font-red{color:#b20f03}body.dark .big-button,body.dark .pow-button{background-color:#4693ff;color:#1d1d1d}body.dark #challenge-success-text{background-image:url(data:image/svg+xml;base64,PHN2ZyB4bWxucz0iaHR0cDovL3d3dy53My5vcmcvMjAwMC9zdmciIHdpZHRoPSIzMiIgaGVpZ2h0PSIzMiIgZmlsbD0ibm9uZSIgdmlld0JveD0iMCAwIDI2IDI2Ij48cGF0aCBmaWxsPSIjZDlkOWQ5IiBkPSJNMTMgMGExMyAxMyAwIDEgMCAwIDI2IDEzIDEzIDAgMCAwIDAtMjZtMCAyNGExMSAxMSAwIDEgMSAwLTIyIDExIDExIDAgMCAxIDAgMjIiLz48cGF0aCBmaWxsPSIjZDlkOWQ5IiBkPSJtMTAuOTU1IDE2LjA1NS0zLjk1LTQuMTI1LTEuNDQ1IDEuMzg1IDUuMzcgNS42MSA5LjQ5NS05LjYtMS40Mi0xLjQwNXoiLz48L3N2Zz4=)}body.dark #challenge-error-text{background-image:url(data:image/svg+xml;base64,PHN2ZyB4bWxucz0iaHR0cDovL3d3dy53My5vcmcvMjAwMC9zdmciIHdpZHRoPSIzMiIgaGVpZ2h0PSIzMiIgZmlsbD0ibm9uZSI+PHBhdGggZmlsbD0iI0IyMEYwMyIgZD0iTTE2IDNhMTMgMTMgMCAxIDAgMTMgMTNBMTMuMDE1IDEzLjAxNSAwIDAgMCAxNiAzbTAgMjRhMTEgMTEgMCAxIDEgMTEtMTEgMTEuMDEgMTEuMDEgMCAwIDEtMTEgMTEiLz48cGF0aCBmaWxsPSIjQjIwRjAzIiBkPSJNMTcuMDM4IDE4LjYxNUgxNC44N0wxNC41NjMgOS41aDIuNzgzem0tMS4wODQgMS40MjdxLjY2IDAgMS4wNTcuMzg4LjQwNy4zODkuNDA3Ljk5NCAwIC41OTYtLjQwNy45ODQtLjM5Ny4zOS0xLjA1Ny4zODktLjY1IDAtMS4wNTYtLjM4OS0uMzk4LS4zODktLjM5OC0uOTg0IDAtLjU5Ny4zOTgtLjk4NS40MDYtLjM5NyAxLjA1Ni0uMzk3Ii8+PC9zdmc+)}body.light{background-color:transparent;color:#313131}body.light a{color:#0051c3}body.light a:hover{color:#ee730a;text-decoration:underline}body.light .lds-ring div{border-color:#595959 transparent transparent}body.light .font-red{color:#fc574a}body.light .big-button,body.light .pow-button{background-color:#003681;border-color:#003681;color:#fff}body.light #challenge-success-text{background-image:url(data:image/svg+xml;base64,PHN2ZyB4bWxucz0iaHR0cDovL3d3dy53My5vcmcvMjAwMC9zdmciIHdpZHRoPSIzMiIgaGVpZ2h0PSIzMiIgZmlsbD0ibm9uZSIgdmlld0JveD0iMCAwIDI2IDI2Ij48cGF0aCBmaWxsPSIjMzEzMTMxIiBkPSJNMTMgMGExMyAxMyAwIDEgMCAwIDI2IDEzIDEzIDAgMCAwIDAtMjZtMCAyNGExMSAxMSAwIDEgMSAwLTIyIDExIDExIDAgMCAxIDAgMjIiLz48cGF0aCBmaWxsPSIjMzEzMTMxIiBkPSJtMTAuOTU1IDE2LjA1NS0zLjk1LTQuMTI1LTEuNDQ1IDEuMzg1IDUuMzcgNS42MSA5LjQ5NS05LjYtMS40Mi0xLjQwNXoiLz48L3N2Zz4=)}body.light #challenge-error-text{background-image:url(data:image/svg+xml;base64,PHN2ZyB4bWxucz0iaHR0cDovL3d3dy53My5vcmcvMjAwMC9zdmciIHdpZHRoPSIzMiIgaGVpZ2h0PSIzMiIgZmlsbD0ibm9uZSI+PHBhdGggZmlsbD0iI2ZjNTc0YSIgZD0iTTE2IDNhMTMgMTMgMCAxIDAgMTMgMTNBMTMuMDE1IDEzLjAxNSAwIDAgMCAxNiAzbTAgMjRhMTEgMTEgMCAxIDEgMTEtMTEgMTEuMDEgMTEuMDEgMCAwIDEtMTEgMTEiLz48cGF0aCBmaWxsPSIjZmM1NzRhIiBkPSJNMTcuMDM4IDE4LjYxNUgxNC44N0wxNC41NjMgOS41aDIuNzgzem0tMS4wODQgMS40MjdxLjY2IDAgMS4wNTcuMzg4LjQwNy4zODkuNDA3Ljk5NCAwIC41OTYtLjQwNy45ODQtLjM5Ny4zOS0xLjA1Ny4zODktLjY1IDAtMS4wNTYtLjM4OS0uMzk4LS4zODktLjM5OC0uOTg0IDAtLjU5Ny4zOTgtLjk4NS40MDYtLjM5NyAxLjA1Ni0uMzk3Ii8+PC9zdmc+)}a{background-color:transparent;color:#0051c3;text-decoration:none;transition:color .15s ease}a:hover{color:#ee730a;text-decoration:underline}.main-content{margin:8rem auto;max-width:60rem;width:100%}.heading-favicon{height:2rem;margin-right:.5rem;width:2rem}@media (width <= 720px){.main-content{margin-top:4rem}.heading-favicon{height:1.5rem;width:1.5rem}}.footer,.main-content{padding-left:1.5rem;padding-right:1.5rem}.main-wrapper{align-items:center;display:flex;flex:1;flex-direction:column}.font-red{color:#b20f03}.spacer{margin:2rem 0}.h1{font-size:2.5rem;font-weight:500;line-height:3.75rem}.h2{font-weight:500}.core-msg,.h2{font-size:1.5rem;line-height:2.25rem}.body-text,.core-msg{font-weight:400}.body-text{font-size:1rem;line-height:1.25rem}@media (width <= 720px){.h1{font-size:1.5rem;line-height:1.75rem}.h2{font-size:1.25rem}.core-msg,.h2{line-height:1.5rem}.core-msg{font-size:1rem}}#challenge-error-text{background-image:url(data:image/svg+xml;base64,PHN2ZyB4bWxucz0iaHR0cDovL3d3dy53My5vcmcvMjAwMC9zdmciIHdpZHRoPSIzMiIgaGVpZ2h0PSIzMiIgZmlsbD0ibm9uZSI+PHBhdGggZmlsbD0iI2ZjNTc0YSIgZD0iTTE2IDNhMTMgMTMgMCAxIDAgMTMgMTNBMTMuMDE1IDEzLjAxNSAwIDAgMCAxNiAzbTAgMjRhMTEgMTEgMCAxIDEgMTEtMTEgMTEuMDEgMTEuMDEgMCAwIDEtMTEgMTEiLz48cGF0aCBmaWxsPSIjZmM1NzRhIiBkPSJNMTcuMDM4IDE4LjYxNUgxNC44N0wxNC41NjMgOS41aDIuNzgzem0tMS4wODQgMS40MjdxLjY2IDAgMS4wNTcuMzg4LjQwNy4zODkuNDA3Ljk5NCAwIC41OTYtLjQwNy45ODQtLjM5Ny4zOS0xLjA1Ny4zODktLjY1IDAtMS4wNTYtLjM4OS0uMzk4LS4zODktLjM5OC0uOTg0IDAtLjU5Ny4zOTgtLjk4NS40MDYtLjM5NyAxLjA1Ni0uMzk3Ii8+PC9zdmc+);padding-left:34px}#challenge-error-text,#challenge-success-text{background-repeat:no-repeat;background-size:contain}#challenge-success-text{background-image:url(data:image/svg+xml;base64,PHN2ZyB4bWxucz0iaHR0cDovL3d3dy53My5vcmcvMjAwMC9zdmciIHdpZHRoPSIzMiIgaGVpZ2h0PSIzMiIgZmlsbD0ibm9uZSIgdmlld0JveD0iMCAwIDI2IDI2Ij48cGF0aCBmaWxsPSIjMzEzMTMxIiBkPSJNMTMgMGExMyAxMyAwIDEgMCAwIDI2IDEzIDEzIDAgMCAwIDAtMjZtMCAyNGExMSAxMSAwIDEgMSAwLTIyIDExIDExIDAgMCAxIDAgMjIiLz48cGF0aCBmaWxsPSIjMzEzMTMxIiBkPSJtMTAuOTU1IDE2LjA1NS0zLjk1LTQuMTI1LTEuNDQ1IDEuMzg1IDUuMzcgNS42MSA5LjQ5NS05LjYtMS40Mi0xLjQwNXoiLz48L3N2Zz4=);padding-left:42px}.text-center{text-align:center}.big-button{border:.063rem solid #0051c3;border-radius:.313rem;font-size:.875rem;line-height:1.313rem;padding:.375rem 1rem;transition-duration:.2s;transition-property:background-color,border-color,color;transition-timing-function:ease}.big-button:hover{cursor:pointer}.captcha-prompt:not(.hidden){display:flex}@media (width <= 720px){.captcha-prompt:not(.hidden){flex-wrap:wrap;justify-content:center}}.pow-button{background-color:#0051c3;color:#fff;margin:2rem 0}.pow-button:hover{background-color:#003681;border-color:#003681;color:#fff}.footer{font-size:.75rem;line-height:1.125rem;margin:0 auto;max-width:60rem;width:100%}.footer-inner{border-top:1px solid #d9d9d9;padding-bottom:1rem;padding-top:1rem}.clearfix:after{clear:both;content:\"\";display:table}.clearfix .column{float:left;padding-right:1.5rem;width:50%}.diagnostic-wrapper{margin-bottom:.5rem}.footer .ray-id{text-align:center}.footer .ray-id code{font-family:monaco,courier,monospace}.core-msg,.zone-name-title{overflow-wrap:break-word}@media (width <= 720px){.diagnostic-wrapper{display:flex;flex-wrap:wrap;justify-content:center}.clearfix:after{clear:none;content:none;display:initial;text-align:center}.column{padding-bottom:2rem}.clearfix .column{float:none;padding:0;width:auto;word-break:keep-all}.zone-name-title{margin-bottom:1rem}}.loading-spinner{height:76.391px}.lds-ring{display:inline-block;position:relative}.lds-ring,.lds-ring div{height:1.875rem;width:1.875rem}.lds-ring div{animation:lds-ring 1.2s cubic-bezier(.5,0,.5,1) infinite;border:.3rem solid transparent;border-radius:50%;border-top-color:#313131;box-sizing:border-box;display:block;position:absolute}.lds-ring div:first-child{animation-delay:-.45s}.lds-ring div:nth-child(2){animation-delay:-.3s}.lds-ring div:nth-child(3){animation-delay:-.15s}@keyframes lds-ring{0%{transform:rotate(0)}to{transform:rotate(1turn)}}@media screen and (-ms-high-contrast:active),screen and (-ms-high-contrast:none){.main-wrapper,body{display:block}}.rtl .heading-favicon{margin-left:.5rem;margin-right:0}.rtl #challenge-success-text{background-position:100%;padding-left:0;padding-right:42px}.rtl #challenge-error-text{background-position:100%;padding-left:0;padding-right:34px}</style><meta http-equiv=\"refresh\" content=\"375\"></head><body class=\"no-js\"><div class=\"main-wrapper\" role=\"main\"><div class=\"main-content\"><noscript><div id=\"challenge-error-title\"><div class=\"h2\"><span id=\"challenge-error-text\">Enable JavaScript and cookies to continue</span></div></div></noscript></div></div><script>(function(){window._cf_chl_opt={cvId: \\'3\\',cZone: \"pixabay.com\",cType: \\'interactive\\',cNounce: \\'73534\\',cRay: \\'87fdb203d8f832a2\\',cHash: \\'dc318c5d36e02cc\\',cUPMDTk: \"\\\\/ko\\\\/photos\\\\/search\\\\/cat\\\\/?__cf_chl_tk=QyaslzyX8VUPVMZVWbb9DlwKHt8exg01A2Eu7dnKAxA-1715048054-0.0.1.1-1343\",cFPWv: \\'b\\',cTTimeMs: \\'1000\\',cMTimeMs: \\'375000\\',cTplV: 5,cTplB: \\'cf\\',cK: \"visitor-time\",fa: \"\\\\/ko\\\\/photos\\\\/search\\\\/cat\\\\/?__cf_chl_f_tk=QyaslzyX8VUPVMZVWbb9DlwKHt8exg01A2Eu7dnKAxA-1715048054-0.0.1.1-1343\",md: \"Q2fWYyEqaOe6l9jxd7uSjuwfTvO9MMmJlJvsPlFwXU8-1715048054-1.1.1.1-GF5qcA6oq0oFotKM1vLSUTc8ggFriGf.LYrWTgsBFGCfYnR88TgkyXhKMD7tAxWkW50jzFDkjclIpChJl0h.29S2C7RM3EhmKOQbnuBzSGJwsFIZpe686XlEVGlHpLqavI8U.2XZ6behfS6IMqxX0bLCJOI.D1Eh1Wc4rYgElZTIhx73xhs.keMRGK.A0cS5A2xbZe_kiT4vz2_i85XYWrIk4ssvY5lkulBbyjwF5fz09xcoBaehZh6XX35WSnsnToi6st9f19r5gJrLjui995eMw43g6anGMdthYVxDCXQAeoDutWc8LlG.X43NLTzR490jiK0l6O2rhsL_NCLThLPaBTolUbaU4frs2OXp5buXeTbqd_wDJhGJ7I67UVdGjlFprHAn7D2giZpYJ8g0fY.PmoqMEtCN8wMzM5H4Qu85hhKBsNgvsCUoAd4GFcB9tLJNoIh2QR.ZzMh6T8BnwrDxCryvzqnFFBnQqEjU8A78c.6ThVpsCtFWfoDqWDdMAn3QUpZ9fwqgpjuHFsI0Slf_vQ0nZKndahS7D0I7kRov8TJ5.nnnRmvFh4w2HLd7yA9N2rofnUB0T_ZHlmv4jVLgEOT7lUmD5zw8QZAwPEE.jexgl_fw7QmIDrTB7IkLCFFJezBKKg.9hkPnORN8Wkx2_YJlCUCBSS.DkEdwF2o31iqhFpAo9l7BD57NJXC46QkIuVy5kCHLwV1hOSQK2trVLegAisAXZmE53GMc4yP9uKcKvfs7POBCEs1uuU6GvxhaYPS.fS1KmGqt2T_Z3ToMEP1ukJrp4VbW8CMOm9765QVBGqi3aWxhc2GvRTR9.eY0ha22vz.UJxPRrYvHBqRubD1t_gBZh89D1ZszLyvgPiHWFzv3ahvzxMTJTBmJK2YVg0Rj_DY1iJnC4GP3yX6u5F1tXXJQpXWNF09iLUmCds1y.bobJ4T0KIUYTNphirHdSiLhgl6v8LCaExZTr1Tyy7ibawuF8DymvJvD82KBi_ngw4R6Oc_OjXzB7NqqaiLYOSRFfapwWne_HVsjmTU0Gw.g8kKZH3jab16pcFlhe60fH5iApBRylCjmu8Sw95lnwxzrLz_6H.bvcUocqPTPHgD0CiBJT8wdvX8o8G.NrHWNo9m5b_Rq89J32L7owpKVWZpRTF.K_kl3N7sPq79jrhD2aRtHemRDuKb9N4TCUzT4diPCkUHdl.D6HL0.V96Qob_JsB2J6OKPVDmrR5iJot.e62oGMEJdvrk6K.B5SmWbON3YjKU4iF3u5T4s\",mdrd: \"QpV8aoC.0R2UVmmIpzS94yAEV0bHTQGPRalpAugwEPw-1715048054-1.1.1.1-tV5FEK0yltdnC6VlkyQwDn5w3uI1sy85R6khBaVua3cV_zbFCY1aeeQfJyIWxbfGlvu563VnWSXhcNjsu78wa0bwfhbVBNnEV4aJtjtGwYugpx1hF..g4rhS3iEBP3LdT0pLRg4QCFJU_GT29GW5oM0yenSNpKakA1psuuPPcT04a0rQipiuq1OtwT8wu4C07jHWJ3eys6A7rBdXNdxq1N97xHuo9fQ_my4XI2X7_69iMPoS8HFiNY.PbZwK1W1gL_OIlmL1E_aj4CPJyDn5guQVZvVIj2KzJ.eebU7YXnx5xKfVK7_e8.QqxYOUw7izZHRtzCV5G9HS6V_.S1IexeczxUWX4JD8dpiKIMwcCET7KqHDczrZDIdRRfWEcr5q9gJM29Yty08tJ7CuF9J6SBfhipAXf_g.uAqED46Oes.gP_q4Wjq0tC8HmiqcyVpgj635tMWNn4Obt0g9Z6g7IUjzwY0Z3CuJrPY0t5I2ognKVq7vvBZrBCoi6aNJMKYzHaf0TElvwa8OoC_dmBzSQWCr.vKVOjxoHwmTRN3AS.KZsp.uNioLY5cLO3RvCtE_xcpp22hxkjjj1wzG1ONV0T3uQeF_Ljmr9KrVsDPQUICs2Vo3PwYZLIG2.Vm_h3qmwoGHEtCSOh1bYlM5juR7GB5CNLxbUTSY.dVIFubAPgqcDc5pYm0xmAqIL7heEHg9M7hwiWW.A0Et3Q1HfvpIGqRZxvM8uFiuYHg6a2XP90aJs3ZtsGo9EpZHDAn3sQc__3ihQzRz3D8bK9ghF9aLGZvjAgIJ6e7tDWAPySwdvSahzghmTPXYFiC8zvZpx30ie0nE6MLf3V4_A_.GR8APl8m5kX4TEoo2qzGn38qx_1KzFSdXgL.Eb34IiP6Q8FwWyywEMIEsQRJlg6xz9mwcB9qRSiZ7cLUTPIs4mHmzShb5NXb634ioGATHOAyyHb1P2xkQzax0iasmwjkLLKsDRCyDgD01ZfYZ7VWu1bvcXiB7BMoPVX6tNkXCdHYHSWAGIrggib.bdmrlxKVitGRFZBNRRN1HEEJkXFOGh0bRwc30880nuH.XAIdiQW8SWQhthGZyCl.AefsHTdmuSbx1.4FhlieTyfp.dlic7n4WjwXiwFUepz35zdG3MKl5kSyxOL9VZ3EcRyG2Ji9WKYTF9IRrA0FmXL5Tp24M6C6kDC3lp9tiGNMzXYeFvKsOWN0yqr9wNDaPeq9xCacrp2xNqu2lSoKTB1RveoxzrqMo_LgYHLObqqLaknRCvjFUnVYh3f75l0CDPajvlx9SpeJAGYJA5PDd13XiCCWJpT3leeweu9nJpCAihdxsEAKz3bof9f6dneyOfWaOrv.8XtMf0RdLdhbhpJuFo9GJNv9wCtdrPAY1iHLlDXqklWr3zKBIica2IZea03fKf02Yudzdg7.XukPIlB_v_cuK9Ibt4WasBzMtujUm3JNWnth3502fg3LdAzhkQK0A9fAHXC14TkoVOIz9LpKjDanc5O22LzH9jA0b9NHcj32m4bvUVkEFZCu.RQRJTXKngctrf4zBhAejoj.M.__IOT.5HvXzu7B2FUSGMg.8shdPc3lWyoZrSDvxHiINll.dme.7mr4GwcavgngKXterOvQ8jFww8Fy8r8KXfrDtTkgBaBV45_mK9DyDpBKPCdlnI7JuI1TdbByTGR74zHPKaxgxek_pqVXNQo5G4cRHQVpt9PrAdvTjJnuN9oWPNO_zlIzLYMNY9wLHkXjqIyGHDWd2EUpc9sboCT7mWJHN6dQEEe25_D11uJUneDVxPFPTLGDsFeVyzgz2loDByoimUAMwRhdkAaw.fg98R_dAOhTq2zV8akNnEkpA_0Rjzxp5DD6udplwr1vtaYqE1B_yZyHbDvh9XOE5sWiZfV_NEL_Q0RXpX6PlPQdKuGDZMctyFE_LgldOosQp8gXm63E0VCBoOD5OtRIOT_xbmWL790_tQRcxf6twZl7ckMtgT.T0N2OYSKNOqRo1GuDZEM0IipLUEWVqJrqaPaMTwGjDI8Nosmw9.ET9rbPB5X4RwspsYg0UusnIhadzAHEM5f0bR0l2TcoeVdMhZcBXyazpyKfppDRnKS3DrUZFndVuWyKyBgIc1yaXeYpawmOL9WGfP_WKrex7WEnbJdSNKBF_X40EVD0TgFIY\",cRq: {ru: \\'aHR0cHM6Ly9waXhhYmF5LmNvbS9rby9waG90b3Mvc2VhcmNoL2NhdC8=\\',ra: \\'cHl0aG9uLXJlcXVlc3RzLzIuMzEuMA==\\',rm: \\'R0VU\\',d: \\'OIrqj10/K+Mlzde912SNOO/ur8p5i3v/af5TSbrTsVSHTDESewaplKj++I8jzGTe/2uLRqFTxlU93S+D/eZKvdUO49VG3k/uWA4fCniEzyvAj/ZLRC34LpXxJzOhtwVsYwG/+DtiOuwTHfzqbZFMTuXutlTYinrmtvgdWPqzxdeMLA64ChDJzvr0sLHlAEsibZ8qMsbo5F2UY77X0IYRSkanL9aO4UkLH79h1HlSxeIFk0rME0ylWv26kNc7s7I4dzvNXopiNmN6TtMAqbNvZBkyiJbiIV6EYNZQ/WcO4ozt2VMjHJB9SoggiCBmDyGW3f71A8uddTdYLeOAs/Wh64j0GXzJv5/Uv8/k0Q4VGgfwvlODXTcckOY/Tnv8e81LRf3RzG0lK+y/LwPYUHPPaZ/ANokgHjB4MllH5+neg/2DwowOEo+pCj6jA+6uZkBVpQkOILKeyeq44r2WGURS30yX1Qrl7qosIFlVtCIngcQfnGB5CI66cw/zA1whynTN0h/r6W7i+IIvY25DnK2z/DF+9p/I1SWY8PR1Tb8ZwSMs+pkg/CnfxwO8IVg4z5gVTmAgqUcjXOEevmw427Esf8OXsor31O6axcLnYUwQ+Rs=\\',t: \\'MTcxNTA0ODA1NC40NjYwMDA=\\',cT: Math.floor(Date.now() / 1000),m: \\'ogO5oTmpQ6KNRakfbVoXHTokmEs6bDLxN1XV53xPjGo=\\',i1: \\'hIGe0XjQ+4rcBTKN3vbZsQ==\\',i2: \\'xWM0OcYi/gBbNZmL3wpsvw==\\',zh: \\'rn4uVVI55DugAe2oDwA8RdEOOxslcW1vAsJM/MDyRnY=\\',uh: \\'YE9XOpG5TeHmhA1zfs5mxC8CrRZzq2a/+r+OU7dliYQ=\\',hh: \\'9lZ7QacdPX/XIUWg44BYGVRIsqwHE/7A97JjwS5aDEM=\\',}};var cpo = document.createElement(\\'script\\');cpo.src = \\'/cdn-cgi/challenge-platform/h/b/orchestrate/chl_page/v1?ray=87fdb203d8f832a2\\';window._cf_chl_opt.cOgUHash = location.hash === \\'\\' && location.href.indexOf(\\'#\\') !== -1 ? \\'#\\' : location.hash;window._cf_chl_opt.cOgUQuery = location.search === \\'\\' && location.href.slice(0, location.href.length - window._cf_chl_opt.cOgUHash.length).indexOf(\\'?\\') !== -1 ? \\'?\\' : location.search;if (window.history && window.history.replaceState) {var ogU = location.pathname + window._cf_chl_opt.cOgUQuery + window._cf_chl_opt.cOgUHash;history.replaceState(null, null, \"\\\\/ko\\\\/photos\\\\/search\\\\/cat\\\\/?__cf_chl_rt_tk=QyaslzyX8VUPVMZVWbb9DlwKHt8exg01A2Eu7dnKAxA-1715048054-0.0.1.1-1343\" + window._cf_chl_opt.cOgUHash);cpo.onload = function() {history.replaceState(null, null, ogU);}}document.getElementsByTagName(\\'head\\')[0].appendChild(cpo);}());</script></body></html>'"
      ]
     },
     "execution_count": 20,
     "metadata": {},
     "output_type": "execute_result"
    }
   ],
   "source": [
    "s_code.text"
   ]
  },
  {
   "cell_type": "code",
   "execution_count": null,
   "id": "f8749be2",
   "metadata": {},
   "outputs": [],
   "source": []
  }
 ],
 "metadata": {
  "kernelspec": {
   "display_name": "Python 3 (ipykernel)",
   "language": "python",
   "name": "python3"
  },
  "language_info": {
   "codemirror_mode": {
    "name": "ipython",
    "version": 3
   },
   "file_extension": ".py",
   "mimetype": "text/x-python",
   "name": "python",
   "nbconvert_exporter": "python",
   "pygments_lexer": "ipython3",
   "version": "3.11.5"
  }
 },
 "nbformat": 4,
 "nbformat_minor": 5
}
