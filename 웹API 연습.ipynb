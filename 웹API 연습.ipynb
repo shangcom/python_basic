{
 "cells": [
  {
   "cell_type": "code",
   "execution_count": 1,
   "id": "b016df8c",
   "metadata": {},
   "outputs": [],
   "source": [
    "#API 키를 사용하지 않고 데이터 가져오기"
   ]
  },
  {
   "cell_type": "code",
   "execution_count": 2,
   "id": "8b13f550",
   "metadata": {},
   "outputs": [],
   "source": [
    "#International Space Station 위도, 경도 제공 open-notify.org"
   ]
  },
  {
   "cell_type": "code",
   "execution_count": 3,
   "id": "ad11b764",
   "metadata": {},
   "outputs": [],
   "source": [
    "url='http://api.open-notify.org/iss-now.json'"
   ]
  },
  {
   "cell_type": "code",
   "execution_count": 5,
   "id": "d5928d2e",
   "metadata": {},
   "outputs": [],
   "source": [
    "import requests"
   ]
  },
  {
   "cell_type": "code",
   "execution_count": 6,
   "id": "18c605b0",
   "metadata": {},
   "outputs": [
    {
     "data": {
      "text/plain": [
       "<Response [200]>"
      ]
     },
     "execution_count": 6,
     "metadata": {},
     "output_type": "execute_result"
    }
   ],
   "source": [
    "requests.get(url)"
   ]
  },
  {
   "cell_type": "code",
   "execution_count": 7,
   "id": "e4bb00ed",
   "metadata": {},
   "outputs": [],
   "source": [
    "response_status_code=requests.get(url)"
   ]
  },
  {
   "cell_type": "code",
   "execution_count": 8,
   "id": "e48a183b",
   "metadata": {},
   "outputs": [
    {
     "data": {
      "text/plain": [
       "'{\"message\": \"success\", \"iss_position\": {\"longitude\": \"-7.0502\", \"latitude\": \"50.3274\"}, \"timestamp\": 1715043320}'"
      ]
     },
     "execution_count": 8,
     "metadata": {},
     "output_type": "execute_result"
    }
   ],
   "source": [
    "response_status_code.text"
   ]
  },
  {
   "cell_type": "code",
   "execution_count": 9,
   "id": "b04649f3",
   "metadata": {},
   "outputs": [
    {
     "data": {
      "text/plain": [
       "str"
      ]
     },
     "execution_count": 9,
     "metadata": {},
     "output_type": "execute_result"
    }
   ],
   "source": [
    "type(response_status_code.text)"
   ]
  },
  {
   "cell_type": "code",
   "execution_count": null,
   "id": "f9bec23a",
   "metadata": {},
   "outputs": [],
   "source": [
    "#웹에서 가져오는 데이터는 대부분 반정형(xml, json) "
   ]
  },
  {
   "cell_type": "code",
   "execution_count": 12,
   "id": "4ce6abd2",
   "metadata": {},
   "outputs": [],
   "source": [
    "import json"
   ]
  },
  {
   "cell_type": "code",
   "execution_count": 13,
   "id": "038e3666",
   "metadata": {},
   "outputs": [],
   "source": [
    "py_dic=json.loads(response_status_code.text)"
   ]
  },
  {
   "cell_type": "code",
   "execution_count": 16,
   "id": "786e6642",
   "metadata": {},
   "outputs": [
    {
     "data": {
      "text/plain": [
       "{'longitude': '-7.0502', 'latitude': '50.3274'}"
      ]
     },
     "execution_count": 16,
     "metadata": {},
     "output_type": "execute_result"
    }
   ],
   "source": [
    "py_dic['iss_position']"
   ]
  },
  {
   "cell_type": "code",
   "execution_count": 17,
   "id": "5174054d",
   "metadata": {},
   "outputs": [
    {
     "data": {
      "text/plain": [
       "'-7.0502'"
      ]
     },
     "execution_count": 17,
     "metadata": {},
     "output_type": "execute_result"
    }
   ],
   "source": [
    "py_dic['iss_position']['longitude']"
   ]
  },
  {
   "cell_type": "code",
   "execution_count": 21,
   "id": "388750ba",
   "metadata": {},
   "outputs": [],
   "source": [
    "#10초마다 ISS의 위도, 경도 가져오기"
   ]
  },
  {
   "cell_type": "code",
   "execution_count": null,
   "id": "bd14c878",
   "metadata": {},
   "outputs": [],
   "source": [
    "import time"
   ]
  },
  {
   "cell_type": "code",
   "execution_count": null,
   "id": "6944f431",
   "metadata": {},
   "outputs": [],
   "source": [
    "while True:\n",
    "    response_status_code=requests.get(url)\n",
    "    py_dic=json.loads(response_status_code.text)\n",
    "    time.sleep(10)\n",
    "    print(py_dic['iss_position'])"
   ]
  },
  {
   "cell_type": "code",
   "execution_count": null,
   "id": "133d1c06",
   "metadata": {},
   "outputs": [],
   "source": []
  }
 ],
 "metadata": {
  "kernelspec": {
   "display_name": "Python 3 (ipykernel)",
   "language": "python",
   "name": "python3"
  },
  "language_info": {
   "codemirror_mode": {
    "name": "ipython",
    "version": 3
   },
   "file_extension": ".py",
   "mimetype": "text/x-python",
   "name": "python",
   "nbconvert_exporter": "python",
   "pygments_lexer": "ipython3",
   "version": "3.11.5"
  }
 },
 "nbformat": 4,
 "nbformat_minor": 5
}
