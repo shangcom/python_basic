{
 "cells": [
  {
   "cell_type": "code",
   "execution_count": 1,
   "id": "0cddce41",
   "metadata": {},
   "outputs": [],
   "source": [
    "#함수"
   ]
  },
  {
   "cell_type": "code",
   "execution_count": 2,
   "id": "b10a3e74",
   "metadata": {},
   "outputs": [],
   "source": [
    "def f1():\n",
    "    print(\"hi\")"
   ]
  },
  {
   "cell_type": "code",
   "execution_count": 4,
   "id": "ad5803cf",
   "metadata": {},
   "outputs": [
    {
     "name": "stdout",
     "output_type": "stream",
     "text": [
      "hi\n"
     ]
    }
   ],
   "source": [
    "f1()"
   ]
  },
  {
   "cell_type": "code",
   "execution_count": 14,
   "id": "10ac4569",
   "metadata": {},
   "outputs": [],
   "source": [
    "def f2(gift, count):\n",
    "    print(\"%s 잘 받았습니다.\" %gift)\n",
    "    print(\"%d개 받았습니다.\" %count)"
   ]
  },
  {
   "cell_type": "code",
   "execution_count": 15,
   "id": "54c24a5d",
   "metadata": {},
   "outputs": [
    {
     "name": "stdout",
     "output_type": "stream",
     "text": [
      "선물 잘 받았습니다.\n",
      "4개 받았습니다.\n"
     ]
    }
   ],
   "source": [
    "f2(\"선물\", 4)"
   ]
  },
  {
   "cell_type": "code",
   "execution_count": 16,
   "id": "ed2ddddb",
   "metadata": {},
   "outputs": [],
   "source": [
    "def f3():\n",
    "    return \"짜장\""
   ]
  },
  {
   "cell_type": "code",
   "execution_count": 17,
   "id": "d9ba5a75",
   "metadata": {},
   "outputs": [],
   "source": [
    " menu=f3()"
   ]
  },
  {
   "cell_type": "code",
   "execution_count": 18,
   "id": "03668087",
   "metadata": {},
   "outputs": [
    {
     "name": "stdout",
     "output_type": "stream",
     "text": [
      "짜장\n"
     ]
    }
   ],
   "source": [
    "print(menu)"
   ]
  },
  {
   "cell_type": "code",
   "execution_count": 19,
   "id": "b999079a",
   "metadata": {},
   "outputs": [],
   "source": [
    "def f4(gift):\n",
    "    print(gift)\n",
    "    return 55"
   ]
  },
  {
   "cell_type": "code",
   "execution_count": 20,
   "id": "0a7c5cad",
   "metadata": {},
   "outputs": [
    {
     "name": "stdout",
     "output_type": "stream",
     "text": [
      "사탕\n"
     ]
    }
   ],
   "source": [
    "num1=f4('사탕')"
   ]
  },
  {
   "cell_type": "code",
   "execution_count": 21,
   "id": "22c41081",
   "metadata": {},
   "outputs": [
    {
     "data": {
      "text/plain": [
       "55"
      ]
     },
     "execution_count": 21,
     "metadata": {},
     "output_type": "execute_result"
    }
   ],
   "source": [
    "num1"
   ]
  },
  {
   "cell_type": "code",
   "execution_count": null,
   "id": "12f4684b",
   "metadata": {},
   "outputs": [],
   "source": []
  }
 ],
 "metadata": {
  "kernelspec": {
   "display_name": "Python 3 (ipykernel)",
   "language": "python",
   "name": "python3"
  },
  "language_info": {
   "codemirror_mode": {
    "name": "ipython",
    "version": 3
   },
   "file_extension": ".py",
   "mimetype": "text/x-python",
   "name": "python",
   "nbconvert_exporter": "python",
   "pygments_lexer": "ipython3",
   "version": "3.11.5"
  }
 },
 "nbformat": 4,
 "nbformat_minor": 5
}
